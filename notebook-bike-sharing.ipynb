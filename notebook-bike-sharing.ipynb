{
 "cells": [
  {
   "cell_type": "markdown",
   "id": "c13d72b4-0c6b-4d69-9d2c-ac4b2474430b",
   "metadata": {
    "tags": []
   },
   "source": [
    "# Data Analysis Project:Bike Sharing Dataset\n",
    "- Nama : Dean Pratama Putra\n",
    "- Email : dean_xz92@gmail.com\n",
    "- id Dicoding : dean_tama"
   ]
  },
  {
   "cell_type": "markdown",
   "id": "9c620a8f-b3b4-42d5-a32c-d293998ddc5a",
   "metadata": {
    "tags": []
   },
   "source": [
    "# 1. Perkenalan Project"
   ]
  },
  {
   "cell_type": "markdown",
   "id": "30b889f2-9ab3-4800-b8d2-737844885718",
   "metadata": {
    "jp-MarkdownHeadingCollapsed": true,
    "tags": []
   },
   "source": [
    "## 1.1 Latar Belakang\n",
    "\n",
    "Sistem berbagi sepeda adalah generasi baru dari penyewaan sepeda tradisional di mana seluruh proses dari keanggotaan, penyewaan, dan pengembalian telah menjadi otomatis. Melalui sistem-sistem ini, pengguna dapat dengan mudah menyewa sepeda dari posisi tertentu dan mengembalikannya ke posisi lain. Saat ini, ada lebih dari 500 program berbagi sepeda di seluruh dunia yang terdiri dari lebih dari 500 ribu sepeda. Saat ini, ada minat besar dalam sistem-sistem ini karena peran penting mereka dalam masalah lalu lintas, lingkungan, dan kesehatan.\n",
    "\n",
    "Selain dari aplikasi dunia nyata yang menarik dari sistem berbagi sepeda, karakteristik data yang dihasilkan oleh sistem-sistem ini membuat mereka menarik untuk penelitian. Berbeda dengan layanan transportasi lain seperti bus atau kereta bawah tanah, durasi perjalanan, posisi keberangkatan, dan posisi kedatangan secara eksplisit dicatat dalam sistem-sistem ini. Fitur ini mengubah sistem berbagi sepeda menjadi jaringan sensor virtual yang dapat digunakan untuk mendeteksi mobilitas di kota. Oleh karena itu, diharapkan bahwa sebagian besar peristiwa penting di kota dapat dideteksi melalui pemantauan data ini."
   ]
  },
  {
   "cell_type": "markdown",
   "id": "d16138c5-b8fd-4407-b00b-5925a0302a2d",
   "metadata": {
    "jp-MarkdownHeadingCollapsed": true,
    "tags": []
   },
   "source": [
    "## 1.2 Dataset\n",
    "\n",
    "Proses penyewaan sepeda berbagi sangat berkaitan dengan pengaturan lingkungan dan musim. Misalnya, kondisi cuaca, curah hujan, hari dalam seminggu, musim, jam dalam sehari, dll. dapat memengaruhi perilaku penyewaan. Data inti terkait dengan log historis dua tahun yang sesuai dengan tahun 2011 dan 2012 dari sistem Capital Bikeshare, Washington D.C., Amerika Serikat, yang tersedia secara publik di http://capitalbikeshare.com/system-data. Kami menggabungkan data tersebut dalam interval dua jam dan harian, dan kemudian mengekstrak serta menambahkan informasi cuaca dan musiman yang sesuai. Informasi cuaca diekstraksi dari http://www.freemeteo.com."
   ]
  },
  {
   "cell_type": "markdown",
   "id": "2ffc58fa-3b41-4f80-85e7-eb24c6dfe9a6",
   "metadata": {
    "tags": []
   },
   "source": [
    "# 2. Mendefinisikan Pertanyaan \n",
    "\n",
    "1. Bagaimana tren jumlah perjalanan berbagi sepeda dalam beberapa tahun terakhir?\n",
    "2. Pola penggunaan perjalanan berbagi sepeda berdasarkan waktu dalam sehari seperti apa?\n",
    "3. Musim apa yang memiliki jumlah perjalanan berbagi sepeda tertinggi?\n",
    "4. Apakah cuaca memengaruhi penggunaan berbagi sepeda?"
   ]
  },
  {
   "cell_type": "markdown",
   "id": "d8eaa569-2e9b-4c36-8fbc-ff6fc21716de",
   "metadata": {
    "tags": []
   },
   "source": [
    "# 3. Import Library"
   ]
  },
  {
   "cell_type": "code",
   "execution_count": 1,
   "id": "04051065-ca2b-4c16-9676-9649a30444d1",
   "metadata": {
    "tags": []
   },
   "outputs": [],
   "source": [
    "import pandas as pd\n",
    "import numpy as np\n",
    "import matplotlib.pyplot as plt\n",
    "import seaborn as sns\n",
    "import datetime"
   ]
  },
  {
   "cell_type": "markdown",
   "id": "3a0f0ce8-c6b6-4d56-8a1d-af4b7389fb1a",
   "metadata": {
    "tags": []
   },
   "source": [
    "# 4.Data Wragling\n",
    "\n",
    "---"
   ]
  },
  {
   "cell_type": "markdown",
   "id": "2d812b17-d061-4afc-a51f-c4328874fc74",
   "metadata": {
    "tags": []
   },
   "source": [
    "## 4.1 Load dataset\n",
    "\n",
    "Load dataset. Untuk memudahkan penggunaan dataset, saya mengunggah dataset ke GitHub."
   ]
  },
  {
   "cell_type": "code",
   "execution_count": 2,
   "id": "5fb8dbfe-8f0e-4861-b0b1-3f316a82a10f",
   "metadata": {
    "tags": []
   },
   "outputs": [
    {
     "data": {
      "text/html": [
       "<div>\n",
       "<style scoped>\n",
       "    .dataframe tbody tr th:only-of-type {\n",
       "        vertical-align: middle;\n",
       "    }\n",
       "\n",
       "    .dataframe tbody tr th {\n",
       "        vertical-align: top;\n",
       "    }\n",
       "\n",
       "    .dataframe thead th {\n",
       "        text-align: right;\n",
       "    }\n",
       "</style>\n",
       "<table border=\"1\" class=\"dataframe\">\n",
       "  <thead>\n",
       "    <tr style=\"text-align: right;\">\n",
       "      <th></th>\n",
       "      <th>instant</th>\n",
       "      <th>dteday</th>\n",
       "      <th>season</th>\n",
       "      <th>yr</th>\n",
       "      <th>mnth</th>\n",
       "      <th>hr</th>\n",
       "      <th>holiday</th>\n",
       "      <th>weekday</th>\n",
       "      <th>workingday</th>\n",
       "      <th>weathersit</th>\n",
       "      <th>temp</th>\n",
       "      <th>atemp</th>\n",
       "      <th>hum</th>\n",
       "      <th>windspeed</th>\n",
       "      <th>casual</th>\n",
       "      <th>registered</th>\n",
       "      <th>cnt</th>\n",
       "    </tr>\n",
       "  </thead>\n",
       "  <tbody>\n",
       "    <tr>\n",
       "      <th>0</th>\n",
       "      <td>1</td>\n",
       "      <td>2011-01-01</td>\n",
       "      <td>1</td>\n",
       "      <td>0</td>\n",
       "      <td>1</td>\n",
       "      <td>0</td>\n",
       "      <td>0</td>\n",
       "      <td>6</td>\n",
       "      <td>0</td>\n",
       "      <td>1</td>\n",
       "      <td>0.24</td>\n",
       "      <td>0.2879</td>\n",
       "      <td>0.81</td>\n",
       "      <td>0.0</td>\n",
       "      <td>3</td>\n",
       "      <td>13</td>\n",
       "      <td>16</td>\n",
       "    </tr>\n",
       "    <tr>\n",
       "      <th>1</th>\n",
       "      <td>2</td>\n",
       "      <td>2011-01-01</td>\n",
       "      <td>1</td>\n",
       "      <td>0</td>\n",
       "      <td>1</td>\n",
       "      <td>1</td>\n",
       "      <td>0</td>\n",
       "      <td>6</td>\n",
       "      <td>0</td>\n",
       "      <td>1</td>\n",
       "      <td>0.22</td>\n",
       "      <td>0.2727</td>\n",
       "      <td>0.80</td>\n",
       "      <td>0.0</td>\n",
       "      <td>8</td>\n",
       "      <td>32</td>\n",
       "      <td>40</td>\n",
       "    </tr>\n",
       "    <tr>\n",
       "      <th>2</th>\n",
       "      <td>3</td>\n",
       "      <td>2011-01-01</td>\n",
       "      <td>1</td>\n",
       "      <td>0</td>\n",
       "      <td>1</td>\n",
       "      <td>2</td>\n",
       "      <td>0</td>\n",
       "      <td>6</td>\n",
       "      <td>0</td>\n",
       "      <td>1</td>\n",
       "      <td>0.22</td>\n",
       "      <td>0.2727</td>\n",
       "      <td>0.80</td>\n",
       "      <td>0.0</td>\n",
       "      <td>5</td>\n",
       "      <td>27</td>\n",
       "      <td>32</td>\n",
       "    </tr>\n",
       "    <tr>\n",
       "      <th>3</th>\n",
       "      <td>4</td>\n",
       "      <td>2011-01-01</td>\n",
       "      <td>1</td>\n",
       "      <td>0</td>\n",
       "      <td>1</td>\n",
       "      <td>3</td>\n",
       "      <td>0</td>\n",
       "      <td>6</td>\n",
       "      <td>0</td>\n",
       "      <td>1</td>\n",
       "      <td>0.24</td>\n",
       "      <td>0.2879</td>\n",
       "      <td>0.75</td>\n",
       "      <td>0.0</td>\n",
       "      <td>3</td>\n",
       "      <td>10</td>\n",
       "      <td>13</td>\n",
       "    </tr>\n",
       "    <tr>\n",
       "      <th>4</th>\n",
       "      <td>5</td>\n",
       "      <td>2011-01-01</td>\n",
       "      <td>1</td>\n",
       "      <td>0</td>\n",
       "      <td>1</td>\n",
       "      <td>4</td>\n",
       "      <td>0</td>\n",
       "      <td>6</td>\n",
       "      <td>0</td>\n",
       "      <td>1</td>\n",
       "      <td>0.24</td>\n",
       "      <td>0.2879</td>\n",
       "      <td>0.75</td>\n",
       "      <td>0.0</td>\n",
       "      <td>0</td>\n",
       "      <td>1</td>\n",
       "      <td>1</td>\n",
       "    </tr>\n",
       "  </tbody>\n",
       "</table>\n",
       "</div>"
      ],
      "text/plain": [
       "   instant      dteday  season  yr  mnth  hr  holiday  weekday  workingday  \\\n",
       "0        1  2011-01-01       1   0     1   0        0        6           0   \n",
       "1        2  2011-01-01       1   0     1   1        0        6           0   \n",
       "2        3  2011-01-01       1   0     1   2        0        6           0   \n",
       "3        4  2011-01-01       1   0     1   3        0        6           0   \n",
       "4        5  2011-01-01       1   0     1   4        0        6           0   \n",
       "\n",
       "   weathersit  temp   atemp   hum  windspeed  casual  registered  cnt  \n",
       "0           1  0.24  0.2879  0.81        0.0       3          13   16  \n",
       "1           1  0.22  0.2727  0.80        0.0       8          32   40  \n",
       "2           1  0.22  0.2727  0.80        0.0       5          27   32  \n",
       "3           1  0.24  0.2879  0.75        0.0       3          10   13  \n",
       "4           1  0.24  0.2879  0.75        0.0       0           1    1  "
      ]
     },
     "execution_count": 2,
     "metadata": {},
     "output_type": "execute_result"
    }
   ],
   "source": [
    "df =pd.read_csv('https://raw.githubusercontent.com/deantama/dicoding-bike-sharing/main/dataset/hour.csv')\n",
    "\n",
    "df.head()"
   ]
  },
  {
   "cell_type": "markdown",
   "id": "c7b84530-c5cb-4e49-bd51-efb5b5054e4d",
   "metadata": {
    "tags": []
   },
   "source": [
    "## 4.2 Dataset Characteristics\n",
    "---\n",
    "\n",
    "Both hour.csv and day.csv have the following fields, except hr which is not available in day.csv\n",
    "\t\n",
    "\t- instant: record index\n",
    "\t- dteday : date\n",
    "\t- season : season (1:springer, 2:summer, 3:fall, 4:winter)\n",
    "\t- yr : year (0: 2011, 1:2012)\n",
    "\t- mnth : month ( 1 to 12)\n",
    "\t- hr : hour (0 to 23)\n",
    "\t- holiday : weather day is holiday or not (extracted from http://dchr.dc.gov/page/holiday-schedule)\n",
    "\t- weekday : day of the week\n",
    "\t- workingday : if day is neither weekend nor holiday is 1, otherwise is 0.\n",
    "\t+ weathersit : \n",
    "\t\t- 1: Clear, Few clouds, Partly cloudy, Partly cloudy\n",
    "\t\t- 2: Mist + Cloudy, Mist + Broken clouds, Mist + Few clouds, Mist\n",
    "\t\t- 3: Light Snow, Light Rain + Thunderstorm + Scattered clouds, Light Rain + Scattered clouds\n",
    "\t\t- 4: Heavy Rain + Ice Pallets + Thunderstorm + Mist, Snow + Fog\n",
    "\t- temp : Normalized temperature in Celsius. The values are divided to 41 (max)\n",
    "\t- atemp: Normalized feeling temperature in Celsius. The values are divided to 50 (max)\n",
    "\t- hum: Normalized humidity. The values are divided to 100 (max)\n",
    "\t- windspeed: Normalized wind speed. The values are divided to 67 (max)\n",
    "\t- casual: count of casual users\n",
    "\t- registered: count of registered users\n",
    "\t- cnt: count of total rental bikes including both casual and registered\n",
    "\t"
   ]
  },
  {
   "cell_type": "markdown",
   "id": "51cb712d-3a76-41ca-a177-ee6ab44fd807",
   "metadata": {
    "tags": []
   },
   "source": [
    "## 4.3 Check Data"
   ]
  },
  {
   "cell_type": "markdown",
   "id": "d38cdd3f-f1f3-4c9c-b12f-77f2dab11985",
   "metadata": {
    "tags": []
   },
   "source": [
    "Beberapa teknik dilakukan untuk memeriksa karakteristik data.\n",
    "-  Duplicated values\n",
    "- Missing Value\n",
    "- Inaccurate values\n",
    "- dan lain-lain"
   ]
  },
  {
   "cell_type": "markdown",
   "id": "0b566ed0-1635-4365-9355-004a8c0d0311",
   "metadata": {
    "tags": []
   },
   "source": [
    "## Check for Data Types"
   ]
  },
  {
   "cell_type": "code",
   "execution_count": 3,
   "id": "61a1c8ef-eeb0-46ed-9c3a-530aff57a563",
   "metadata": {
    "tags": []
   },
   "outputs": [
    {
     "name": "stdout",
     "output_type": "stream",
     "text": [
      "<class 'pandas.core.frame.DataFrame'>\n",
      "RangeIndex: 17379 entries, 0 to 17378\n",
      "Data columns (total 17 columns):\n",
      " #   Column      Non-Null Count  Dtype  \n",
      "---  ------      --------------  -----  \n",
      " 0   instant     17379 non-null  int64  \n",
      " 1   dteday      17379 non-null  object \n",
      " 2   season      17379 non-null  int64  \n",
      " 3   yr          17379 non-null  int64  \n",
      " 4   mnth        17379 non-null  int64  \n",
      " 5   hr          17379 non-null  int64  \n",
      " 6   holiday     17379 non-null  int64  \n",
      " 7   weekday     17379 non-null  int64  \n",
      " 8   workingday  17379 non-null  int64  \n",
      " 9   weathersit  17379 non-null  int64  \n",
      " 10  temp        17379 non-null  float64\n",
      " 11  atemp       17379 non-null  float64\n",
      " 12  hum         17379 non-null  float64\n",
      " 13  windspeed   17379 non-null  float64\n",
      " 14  casual      17379 non-null  int64  \n",
      " 15  registered  17379 non-null  int64  \n",
      " 16  cnt         17379 non-null  int64  \n",
      "dtypes: float64(4), int64(12), object(1)\n",
      "memory usage: 2.3+ MB\n"
     ]
    }
   ],
   "source": [
    "df.info()"
   ]
  },
  {
   "cell_type": "markdown",
   "id": "e0d5fc73-baca-43ca-9208-892ec9dde1e4",
   "metadata": {},
   "source": [
    "Analisis:\n",
    "\n",
    "- Mengubah `dteday` menjadi tipe data datetime.\n",
    "\n",
    "- Mengubah `season`, `mnth`, `weekday` dari tipe data integer menjadi tipe data string."
   ]
  },
  {
   "cell_type": "markdown",
   "id": "fa6f8c60-9aea-4762-8829-570ce9f8357b",
   "metadata": {
    "tags": []
   },
   "source": [
    "## Check Missing Values"
   ]
  },
  {
   "cell_type": "code",
   "execution_count": 4,
   "id": "3f0ac021-6009-49f3-bf65-7dd837e0e7e6",
   "metadata": {
    "tags": []
   },
   "outputs": [
    {
     "data": {
      "text/plain": [
       "instant       0\n",
       "dteday        0\n",
       "season        0\n",
       "yr            0\n",
       "mnth          0\n",
       "hr            0\n",
       "holiday       0\n",
       "weekday       0\n",
       "workingday    0\n",
       "weathersit    0\n",
       "temp          0\n",
       "atemp         0\n",
       "hum           0\n",
       "windspeed     0\n",
       "casual        0\n",
       "registered    0\n",
       "cnt           0\n",
       "dtype: int64"
      ]
     },
     "execution_count": 4,
     "metadata": {},
     "output_type": "execute_result"
    }
   ],
   "source": [
    "df.isna().sum()"
   ]
  },
  {
   "cell_type": "markdown",
   "id": "2c826bb9-b35b-44bf-a66b-808c2b332473",
   "metadata": {},
   "source": [
    "Analisis :\n",
    "- Tidak ada missing value di dataset tersebut"
   ]
  },
  {
   "cell_type": "code",
   "execution_count": 5,
   "id": "2c1638c8-6115-41c5-bb19-37cfc4a79dbc",
   "metadata": {
    "tags": []
   },
   "outputs": [
    {
     "data": {
      "text/html": [
       "<div>\n",
       "<style scoped>\n",
       "    .dataframe tbody tr th:only-of-type {\n",
       "        vertical-align: middle;\n",
       "    }\n",
       "\n",
       "    .dataframe tbody tr th {\n",
       "        vertical-align: top;\n",
       "    }\n",
       "\n",
       "    .dataframe thead th {\n",
       "        text-align: right;\n",
       "    }\n",
       "</style>\n",
       "<table border=\"1\" class=\"dataframe\">\n",
       "  <thead>\n",
       "    <tr style=\"text-align: right;\">\n",
       "      <th></th>\n",
       "      <th>instant</th>\n",
       "      <th>dteday</th>\n",
       "      <th>season</th>\n",
       "      <th>yr</th>\n",
       "      <th>mnth</th>\n",
       "      <th>hr</th>\n",
       "      <th>holiday</th>\n",
       "      <th>weekday</th>\n",
       "      <th>workingday</th>\n",
       "      <th>weathersit</th>\n",
       "      <th>temp</th>\n",
       "      <th>atemp</th>\n",
       "      <th>hum</th>\n",
       "      <th>windspeed</th>\n",
       "      <th>casual</th>\n",
       "      <th>registered</th>\n",
       "      <th>cnt</th>\n",
       "    </tr>\n",
       "  </thead>\n",
       "  <tbody>\n",
       "    <tr>\n",
       "      <th>count</th>\n",
       "      <td>17379.0000</td>\n",
       "      <td>17379</td>\n",
       "      <td>17379.000000</td>\n",
       "      <td>17379.000000</td>\n",
       "      <td>17379.000000</td>\n",
       "      <td>17379.000000</td>\n",
       "      <td>17379.000000</td>\n",
       "      <td>17379.000000</td>\n",
       "      <td>17379.000000</td>\n",
       "      <td>17379.000000</td>\n",
       "      <td>17379.000000</td>\n",
       "      <td>17379.000000</td>\n",
       "      <td>17379.000000</td>\n",
       "      <td>17379.000000</td>\n",
       "      <td>17379.000000</td>\n",
       "      <td>17379.000000</td>\n",
       "      <td>17379.000000</td>\n",
       "    </tr>\n",
       "    <tr>\n",
       "      <th>unique</th>\n",
       "      <td>NaN</td>\n",
       "      <td>731</td>\n",
       "      <td>NaN</td>\n",
       "      <td>NaN</td>\n",
       "      <td>NaN</td>\n",
       "      <td>NaN</td>\n",
       "      <td>NaN</td>\n",
       "      <td>NaN</td>\n",
       "      <td>NaN</td>\n",
       "      <td>NaN</td>\n",
       "      <td>NaN</td>\n",
       "      <td>NaN</td>\n",
       "      <td>NaN</td>\n",
       "      <td>NaN</td>\n",
       "      <td>NaN</td>\n",
       "      <td>NaN</td>\n",
       "      <td>NaN</td>\n",
       "    </tr>\n",
       "    <tr>\n",
       "      <th>top</th>\n",
       "      <td>NaN</td>\n",
       "      <td>2011-01-01</td>\n",
       "      <td>NaN</td>\n",
       "      <td>NaN</td>\n",
       "      <td>NaN</td>\n",
       "      <td>NaN</td>\n",
       "      <td>NaN</td>\n",
       "      <td>NaN</td>\n",
       "      <td>NaN</td>\n",
       "      <td>NaN</td>\n",
       "      <td>NaN</td>\n",
       "      <td>NaN</td>\n",
       "      <td>NaN</td>\n",
       "      <td>NaN</td>\n",
       "      <td>NaN</td>\n",
       "      <td>NaN</td>\n",
       "      <td>NaN</td>\n",
       "    </tr>\n",
       "    <tr>\n",
       "      <th>freq</th>\n",
       "      <td>NaN</td>\n",
       "      <td>24</td>\n",
       "      <td>NaN</td>\n",
       "      <td>NaN</td>\n",
       "      <td>NaN</td>\n",
       "      <td>NaN</td>\n",
       "      <td>NaN</td>\n",
       "      <td>NaN</td>\n",
       "      <td>NaN</td>\n",
       "      <td>NaN</td>\n",
       "      <td>NaN</td>\n",
       "      <td>NaN</td>\n",
       "      <td>NaN</td>\n",
       "      <td>NaN</td>\n",
       "      <td>NaN</td>\n",
       "      <td>NaN</td>\n",
       "      <td>NaN</td>\n",
       "    </tr>\n",
       "    <tr>\n",
       "      <th>mean</th>\n",
       "      <td>8690.0000</td>\n",
       "      <td>NaN</td>\n",
       "      <td>2.501640</td>\n",
       "      <td>0.502561</td>\n",
       "      <td>6.537775</td>\n",
       "      <td>11.546752</td>\n",
       "      <td>0.028770</td>\n",
       "      <td>3.003683</td>\n",
       "      <td>0.682721</td>\n",
       "      <td>1.425283</td>\n",
       "      <td>0.496987</td>\n",
       "      <td>0.475775</td>\n",
       "      <td>0.627229</td>\n",
       "      <td>0.190098</td>\n",
       "      <td>35.676218</td>\n",
       "      <td>153.786869</td>\n",
       "      <td>189.463088</td>\n",
       "    </tr>\n",
       "    <tr>\n",
       "      <th>std</th>\n",
       "      <td>5017.0295</td>\n",
       "      <td>NaN</td>\n",
       "      <td>1.106918</td>\n",
       "      <td>0.500008</td>\n",
       "      <td>3.438776</td>\n",
       "      <td>6.914405</td>\n",
       "      <td>0.167165</td>\n",
       "      <td>2.005771</td>\n",
       "      <td>0.465431</td>\n",
       "      <td>0.639357</td>\n",
       "      <td>0.192556</td>\n",
       "      <td>0.171850</td>\n",
       "      <td>0.192930</td>\n",
       "      <td>0.122340</td>\n",
       "      <td>49.305030</td>\n",
       "      <td>151.357286</td>\n",
       "      <td>181.387599</td>\n",
       "    </tr>\n",
       "    <tr>\n",
       "      <th>min</th>\n",
       "      <td>1.0000</td>\n",
       "      <td>NaN</td>\n",
       "      <td>1.000000</td>\n",
       "      <td>0.000000</td>\n",
       "      <td>1.000000</td>\n",
       "      <td>0.000000</td>\n",
       "      <td>0.000000</td>\n",
       "      <td>0.000000</td>\n",
       "      <td>0.000000</td>\n",
       "      <td>1.000000</td>\n",
       "      <td>0.020000</td>\n",
       "      <td>0.000000</td>\n",
       "      <td>0.000000</td>\n",
       "      <td>0.000000</td>\n",
       "      <td>0.000000</td>\n",
       "      <td>0.000000</td>\n",
       "      <td>1.000000</td>\n",
       "    </tr>\n",
       "    <tr>\n",
       "      <th>25%</th>\n",
       "      <td>4345.5000</td>\n",
       "      <td>NaN</td>\n",
       "      <td>2.000000</td>\n",
       "      <td>0.000000</td>\n",
       "      <td>4.000000</td>\n",
       "      <td>6.000000</td>\n",
       "      <td>0.000000</td>\n",
       "      <td>1.000000</td>\n",
       "      <td>0.000000</td>\n",
       "      <td>1.000000</td>\n",
       "      <td>0.340000</td>\n",
       "      <td>0.333300</td>\n",
       "      <td>0.480000</td>\n",
       "      <td>0.104500</td>\n",
       "      <td>4.000000</td>\n",
       "      <td>34.000000</td>\n",
       "      <td>40.000000</td>\n",
       "    </tr>\n",
       "    <tr>\n",
       "      <th>50%</th>\n",
       "      <td>8690.0000</td>\n",
       "      <td>NaN</td>\n",
       "      <td>3.000000</td>\n",
       "      <td>1.000000</td>\n",
       "      <td>7.000000</td>\n",
       "      <td>12.000000</td>\n",
       "      <td>0.000000</td>\n",
       "      <td>3.000000</td>\n",
       "      <td>1.000000</td>\n",
       "      <td>1.000000</td>\n",
       "      <td>0.500000</td>\n",
       "      <td>0.484800</td>\n",
       "      <td>0.630000</td>\n",
       "      <td>0.194000</td>\n",
       "      <td>17.000000</td>\n",
       "      <td>115.000000</td>\n",
       "      <td>142.000000</td>\n",
       "    </tr>\n",
       "    <tr>\n",
       "      <th>75%</th>\n",
       "      <td>13034.5000</td>\n",
       "      <td>NaN</td>\n",
       "      <td>3.000000</td>\n",
       "      <td>1.000000</td>\n",
       "      <td>10.000000</td>\n",
       "      <td>18.000000</td>\n",
       "      <td>0.000000</td>\n",
       "      <td>5.000000</td>\n",
       "      <td>1.000000</td>\n",
       "      <td>2.000000</td>\n",
       "      <td>0.660000</td>\n",
       "      <td>0.621200</td>\n",
       "      <td>0.780000</td>\n",
       "      <td>0.253700</td>\n",
       "      <td>48.000000</td>\n",
       "      <td>220.000000</td>\n",
       "      <td>281.000000</td>\n",
       "    </tr>\n",
       "    <tr>\n",
       "      <th>max</th>\n",
       "      <td>17379.0000</td>\n",
       "      <td>NaN</td>\n",
       "      <td>4.000000</td>\n",
       "      <td>1.000000</td>\n",
       "      <td>12.000000</td>\n",
       "      <td>23.000000</td>\n",
       "      <td>1.000000</td>\n",
       "      <td>6.000000</td>\n",
       "      <td>1.000000</td>\n",
       "      <td>4.000000</td>\n",
       "      <td>1.000000</td>\n",
       "      <td>1.000000</td>\n",
       "      <td>1.000000</td>\n",
       "      <td>0.850700</td>\n",
       "      <td>367.000000</td>\n",
       "      <td>886.000000</td>\n",
       "      <td>977.000000</td>\n",
       "    </tr>\n",
       "  </tbody>\n",
       "</table>\n",
       "</div>"
      ],
      "text/plain": [
       "           instant      dteday        season            yr          mnth  \\\n",
       "count   17379.0000       17379  17379.000000  17379.000000  17379.000000   \n",
       "unique         NaN         731           NaN           NaN           NaN   \n",
       "top            NaN  2011-01-01           NaN           NaN           NaN   \n",
       "freq           NaN          24           NaN           NaN           NaN   \n",
       "mean     8690.0000         NaN      2.501640      0.502561      6.537775   \n",
       "std      5017.0295         NaN      1.106918      0.500008      3.438776   \n",
       "min         1.0000         NaN      1.000000      0.000000      1.000000   \n",
       "25%      4345.5000         NaN      2.000000      0.000000      4.000000   \n",
       "50%      8690.0000         NaN      3.000000      1.000000      7.000000   \n",
       "75%     13034.5000         NaN      3.000000      1.000000     10.000000   \n",
       "max     17379.0000         NaN      4.000000      1.000000     12.000000   \n",
       "\n",
       "                  hr       holiday       weekday    workingday    weathersit  \\\n",
       "count   17379.000000  17379.000000  17379.000000  17379.000000  17379.000000   \n",
       "unique           NaN           NaN           NaN           NaN           NaN   \n",
       "top              NaN           NaN           NaN           NaN           NaN   \n",
       "freq             NaN           NaN           NaN           NaN           NaN   \n",
       "mean       11.546752      0.028770      3.003683      0.682721      1.425283   \n",
       "std         6.914405      0.167165      2.005771      0.465431      0.639357   \n",
       "min         0.000000      0.000000      0.000000      0.000000      1.000000   \n",
       "25%         6.000000      0.000000      1.000000      0.000000      1.000000   \n",
       "50%        12.000000      0.000000      3.000000      1.000000      1.000000   \n",
       "75%        18.000000      0.000000      5.000000      1.000000      2.000000   \n",
       "max        23.000000      1.000000      6.000000      1.000000      4.000000   \n",
       "\n",
       "                temp         atemp           hum     windspeed        casual  \\\n",
       "count   17379.000000  17379.000000  17379.000000  17379.000000  17379.000000   \n",
       "unique           NaN           NaN           NaN           NaN           NaN   \n",
       "top              NaN           NaN           NaN           NaN           NaN   \n",
       "freq             NaN           NaN           NaN           NaN           NaN   \n",
       "mean        0.496987      0.475775      0.627229      0.190098     35.676218   \n",
       "std         0.192556      0.171850      0.192930      0.122340     49.305030   \n",
       "min         0.020000      0.000000      0.000000      0.000000      0.000000   \n",
       "25%         0.340000      0.333300      0.480000      0.104500      4.000000   \n",
       "50%         0.500000      0.484800      0.630000      0.194000     17.000000   \n",
       "75%         0.660000      0.621200      0.780000      0.253700     48.000000   \n",
       "max         1.000000      1.000000      1.000000      0.850700    367.000000   \n",
       "\n",
       "          registered           cnt  \n",
       "count   17379.000000  17379.000000  \n",
       "unique           NaN           NaN  \n",
       "top              NaN           NaN  \n",
       "freq             NaN           NaN  \n",
       "mean      153.786869    189.463088  \n",
       "std       151.357286    181.387599  \n",
       "min         0.000000      1.000000  \n",
       "25%        34.000000     40.000000  \n",
       "50%       115.000000    142.000000  \n",
       "75%       220.000000    281.000000  \n",
       "max       886.000000    977.000000  "
      ]
     },
     "execution_count": 5,
     "metadata": {},
     "output_type": "execute_result"
    }
   ],
   "source": [
    "df.describe(include='all')"
   ]
  },
  {
   "cell_type": "markdown",
   "id": "f04176b3-9134-4844-8e5a-e7bf26eeed8b",
   "metadata": {},
   "source": [
    "Analisis :\n",
    "\n",
    "- Dari deskripsi dataset, tampaknya tidak ada data yang berada di luar batas (outliers), dan data ini sepertinya berada dalam rentang normal."
   ]
  },
  {
   "cell_type": "code",
   "execution_count": 6,
   "id": "770e3f43-3c9d-454b-ad05-b6b9332edfa3",
   "metadata": {
    "tags": []
   },
   "outputs": [
    {
     "name": "stdout",
     "output_type": "stream",
     "text": [
      "(17379, 17)\n"
     ]
    }
   ],
   "source": [
    "print(df.shape)"
   ]
  },
  {
   "cell_type": "markdown",
   "id": "e9948d61-4c82-4389-99e7-5e42088bf22e",
   "metadata": {},
   "source": [
    "Analisis :\n",
    "\n",
    "- Dataset ini memiliki 17379 baris dan 17 kolom."
   ]
  },
  {
   "cell_type": "markdown",
   "id": "876f4727-5df5-46d5-b098-bc888efec48b",
   "metadata": {
    "tags": []
   },
   "source": [
    "## 4.4 Cleansing Data"
   ]
  },
  {
   "cell_type": "markdown",
   "id": "c2e94111-659e-4817-9246-047eb3f30745",
   "metadata": {},
   "source": [
    "mengubah `dteday` ke data type"
   ]
  },
  {
   "cell_type": "code",
   "execution_count": 7,
   "id": "c175abb1-863f-435f-8990-8ce36c5b0a91",
   "metadata": {
    "tags": []
   },
   "outputs": [
    {
     "data": {
      "text/html": [
       "<div>\n",
       "<style scoped>\n",
       "    .dataframe tbody tr th:only-of-type {\n",
       "        vertical-align: middle;\n",
       "    }\n",
       "\n",
       "    .dataframe tbody tr th {\n",
       "        vertical-align: top;\n",
       "    }\n",
       "\n",
       "    .dataframe thead th {\n",
       "        text-align: right;\n",
       "    }\n",
       "</style>\n",
       "<table border=\"1\" class=\"dataframe\">\n",
       "  <thead>\n",
       "    <tr style=\"text-align: right;\">\n",
       "      <th></th>\n",
       "      <th>instant</th>\n",
       "      <th>dteday</th>\n",
       "      <th>season</th>\n",
       "      <th>yr</th>\n",
       "      <th>mnth</th>\n",
       "      <th>hr</th>\n",
       "      <th>holiday</th>\n",
       "      <th>weekday</th>\n",
       "      <th>workingday</th>\n",
       "      <th>weathersit</th>\n",
       "      <th>temp</th>\n",
       "      <th>atemp</th>\n",
       "      <th>hum</th>\n",
       "      <th>windspeed</th>\n",
       "      <th>casual</th>\n",
       "      <th>registered</th>\n",
       "      <th>cnt</th>\n",
       "    </tr>\n",
       "  </thead>\n",
       "  <tbody>\n",
       "    <tr>\n",
       "      <th>0</th>\n",
       "      <td>1</td>\n",
       "      <td>2011-01-01</td>\n",
       "      <td>1</td>\n",
       "      <td>0</td>\n",
       "      <td>1</td>\n",
       "      <td>0</td>\n",
       "      <td>0</td>\n",
       "      <td>6</td>\n",
       "      <td>0</td>\n",
       "      <td>1</td>\n",
       "      <td>0.24</td>\n",
       "      <td>0.2879</td>\n",
       "      <td>0.81</td>\n",
       "      <td>0.0</td>\n",
       "      <td>3</td>\n",
       "      <td>13</td>\n",
       "      <td>16</td>\n",
       "    </tr>\n",
       "    <tr>\n",
       "      <th>1</th>\n",
       "      <td>2</td>\n",
       "      <td>2011-01-01</td>\n",
       "      <td>1</td>\n",
       "      <td>0</td>\n",
       "      <td>1</td>\n",
       "      <td>1</td>\n",
       "      <td>0</td>\n",
       "      <td>6</td>\n",
       "      <td>0</td>\n",
       "      <td>1</td>\n",
       "      <td>0.22</td>\n",
       "      <td>0.2727</td>\n",
       "      <td>0.80</td>\n",
       "      <td>0.0</td>\n",
       "      <td>8</td>\n",
       "      <td>32</td>\n",
       "      <td>40</td>\n",
       "    </tr>\n",
       "    <tr>\n",
       "      <th>2</th>\n",
       "      <td>3</td>\n",
       "      <td>2011-01-01</td>\n",
       "      <td>1</td>\n",
       "      <td>0</td>\n",
       "      <td>1</td>\n",
       "      <td>2</td>\n",
       "      <td>0</td>\n",
       "      <td>6</td>\n",
       "      <td>0</td>\n",
       "      <td>1</td>\n",
       "      <td>0.22</td>\n",
       "      <td>0.2727</td>\n",
       "      <td>0.80</td>\n",
       "      <td>0.0</td>\n",
       "      <td>5</td>\n",
       "      <td>27</td>\n",
       "      <td>32</td>\n",
       "    </tr>\n",
       "    <tr>\n",
       "      <th>3</th>\n",
       "      <td>4</td>\n",
       "      <td>2011-01-01</td>\n",
       "      <td>1</td>\n",
       "      <td>0</td>\n",
       "      <td>1</td>\n",
       "      <td>3</td>\n",
       "      <td>0</td>\n",
       "      <td>6</td>\n",
       "      <td>0</td>\n",
       "      <td>1</td>\n",
       "      <td>0.24</td>\n",
       "      <td>0.2879</td>\n",
       "      <td>0.75</td>\n",
       "      <td>0.0</td>\n",
       "      <td>3</td>\n",
       "      <td>10</td>\n",
       "      <td>13</td>\n",
       "    </tr>\n",
       "    <tr>\n",
       "      <th>4</th>\n",
       "      <td>5</td>\n",
       "      <td>2011-01-01</td>\n",
       "      <td>1</td>\n",
       "      <td>0</td>\n",
       "      <td>1</td>\n",
       "      <td>4</td>\n",
       "      <td>0</td>\n",
       "      <td>6</td>\n",
       "      <td>0</td>\n",
       "      <td>1</td>\n",
       "      <td>0.24</td>\n",
       "      <td>0.2879</td>\n",
       "      <td>0.75</td>\n",
       "      <td>0.0</td>\n",
       "      <td>0</td>\n",
       "      <td>1</td>\n",
       "      <td>1</td>\n",
       "    </tr>\n",
       "  </tbody>\n",
       "</table>\n",
       "</div>"
      ],
      "text/plain": [
       "   instant     dteday  season  yr  mnth  hr  holiday  weekday  workingday  \\\n",
       "0        1 2011-01-01       1   0     1   0        0        6           0   \n",
       "1        2 2011-01-01       1   0     1   1        0        6           0   \n",
       "2        3 2011-01-01       1   0     1   2        0        6           0   \n",
       "3        4 2011-01-01       1   0     1   3        0        6           0   \n",
       "4        5 2011-01-01       1   0     1   4        0        6           0   \n",
       "\n",
       "   weathersit  temp   atemp   hum  windspeed  casual  registered  cnt  \n",
       "0           1  0.24  0.2879  0.81        0.0       3          13   16  \n",
       "1           1  0.22  0.2727  0.80        0.0       8          32   40  \n",
       "2           1  0.22  0.2727  0.80        0.0       5          27   32  \n",
       "3           1  0.24  0.2879  0.75        0.0       3          10   13  \n",
       "4           1  0.24  0.2879  0.75        0.0       0           1    1  "
      ]
     },
     "execution_count": 7,
     "metadata": {},
     "output_type": "execute_result"
    }
   ],
   "source": [
    "df['dteday'] =pd.to_datetime(df['dteday'])\n",
    "\n",
    "df.head()"
   ]
  },
  {
   "cell_type": "code",
   "execution_count": 8,
   "id": "835621e1-5e63-4ee0-946c-e54503f50807",
   "metadata": {
    "tags": []
   },
   "outputs": [
    {
     "name": "stdout",
     "output_type": "stream",
     "text": [
      "<class 'pandas.core.frame.DataFrame'>\n",
      "RangeIndex: 17379 entries, 0 to 17378\n",
      "Data columns (total 17 columns):\n",
      " #   Column      Non-Null Count  Dtype         \n",
      "---  ------      --------------  -----         \n",
      " 0   instant     17379 non-null  int64         \n",
      " 1   dteday      17379 non-null  datetime64[ns]\n",
      " 2   season      17379 non-null  int64         \n",
      " 3   yr          17379 non-null  int64         \n",
      " 4   mnth        17379 non-null  int64         \n",
      " 5   hr          17379 non-null  int64         \n",
      " 6   holiday     17379 non-null  int64         \n",
      " 7   weekday     17379 non-null  int64         \n",
      " 8   workingday  17379 non-null  int64         \n",
      " 9   weathersit  17379 non-null  int64         \n",
      " 10  temp        17379 non-null  float64       \n",
      " 11  atemp       17379 non-null  float64       \n",
      " 12  hum         17379 non-null  float64       \n",
      " 13  windspeed   17379 non-null  float64       \n",
      " 14  casual      17379 non-null  int64         \n",
      " 15  registered  17379 non-null  int64         \n",
      " 16  cnt         17379 non-null  int64         \n",
      "dtypes: datetime64[ns](1), float64(4), int64(12)\n",
      "memory usage: 2.3 MB\n"
     ]
    }
   ],
   "source": [
    "df.info()"
   ]
  },
  {
   "cell_type": "markdown",
   "id": "cdfe8fa0-3c32-41dd-aff9-deef8406d1d9",
   "metadata": {
    "tags": []
   },
   "source": [
    "## Correct the values of season, weekday and month variables"
   ]
  },
  {
   "cell_type": "code",
   "execution_count": 9,
   "id": "ec4af6ff-2386-4a10-bc84-e1cff7a24f87",
   "metadata": {
    "tags": []
   },
   "outputs": [
    {
     "data": {
      "text/html": [
       "<div>\n",
       "<style scoped>\n",
       "    .dataframe tbody tr th:only-of-type {\n",
       "        vertical-align: middle;\n",
       "    }\n",
       "\n",
       "    .dataframe tbody tr th {\n",
       "        vertical-align: top;\n",
       "    }\n",
       "\n",
       "    .dataframe thead th {\n",
       "        text-align: right;\n",
       "    }\n",
       "</style>\n",
       "<table border=\"1\" class=\"dataframe\">\n",
       "  <thead>\n",
       "    <tr style=\"text-align: right;\">\n",
       "      <th></th>\n",
       "      <th>instant</th>\n",
       "      <th>dteday</th>\n",
       "      <th>season</th>\n",
       "      <th>yr</th>\n",
       "      <th>mnth</th>\n",
       "      <th>hr</th>\n",
       "      <th>holiday</th>\n",
       "      <th>weekday</th>\n",
       "      <th>workingday</th>\n",
       "      <th>weathersit</th>\n",
       "      <th>temp</th>\n",
       "      <th>atemp</th>\n",
       "      <th>hum</th>\n",
       "      <th>windspeed</th>\n",
       "      <th>casual</th>\n",
       "      <th>registered</th>\n",
       "      <th>cnt</th>\n",
       "    </tr>\n",
       "  </thead>\n",
       "  <tbody>\n",
       "    <tr>\n",
       "      <th>0</th>\n",
       "      <td>1</td>\n",
       "      <td>2011-01-01</td>\n",
       "      <td>1</td>\n",
       "      <td>0</td>\n",
       "      <td>1</td>\n",
       "      <td>0</td>\n",
       "      <td>0</td>\n",
       "      <td>Saturday</td>\n",
       "      <td>0</td>\n",
       "      <td>1</td>\n",
       "      <td>0.24</td>\n",
       "      <td>0.2879</td>\n",
       "      <td>0.81</td>\n",
       "      <td>0.0</td>\n",
       "      <td>3</td>\n",
       "      <td>13</td>\n",
       "      <td>16</td>\n",
       "    </tr>\n",
       "    <tr>\n",
       "      <th>1</th>\n",
       "      <td>2</td>\n",
       "      <td>2011-01-01</td>\n",
       "      <td>1</td>\n",
       "      <td>0</td>\n",
       "      <td>1</td>\n",
       "      <td>1</td>\n",
       "      <td>0</td>\n",
       "      <td>Saturday</td>\n",
       "      <td>0</td>\n",
       "      <td>1</td>\n",
       "      <td>0.22</td>\n",
       "      <td>0.2727</td>\n",
       "      <td>0.80</td>\n",
       "      <td>0.0</td>\n",
       "      <td>8</td>\n",
       "      <td>32</td>\n",
       "      <td>40</td>\n",
       "    </tr>\n",
       "    <tr>\n",
       "      <th>2</th>\n",
       "      <td>3</td>\n",
       "      <td>2011-01-01</td>\n",
       "      <td>1</td>\n",
       "      <td>0</td>\n",
       "      <td>1</td>\n",
       "      <td>2</td>\n",
       "      <td>0</td>\n",
       "      <td>Saturday</td>\n",
       "      <td>0</td>\n",
       "      <td>1</td>\n",
       "      <td>0.22</td>\n",
       "      <td>0.2727</td>\n",
       "      <td>0.80</td>\n",
       "      <td>0.0</td>\n",
       "      <td>5</td>\n",
       "      <td>27</td>\n",
       "      <td>32</td>\n",
       "    </tr>\n",
       "    <tr>\n",
       "      <th>3</th>\n",
       "      <td>4</td>\n",
       "      <td>2011-01-01</td>\n",
       "      <td>1</td>\n",
       "      <td>0</td>\n",
       "      <td>1</td>\n",
       "      <td>3</td>\n",
       "      <td>0</td>\n",
       "      <td>Saturday</td>\n",
       "      <td>0</td>\n",
       "      <td>1</td>\n",
       "      <td>0.24</td>\n",
       "      <td>0.2879</td>\n",
       "      <td>0.75</td>\n",
       "      <td>0.0</td>\n",
       "      <td>3</td>\n",
       "      <td>10</td>\n",
       "      <td>13</td>\n",
       "    </tr>\n",
       "    <tr>\n",
       "      <th>4</th>\n",
       "      <td>5</td>\n",
       "      <td>2011-01-01</td>\n",
       "      <td>1</td>\n",
       "      <td>0</td>\n",
       "      <td>1</td>\n",
       "      <td>4</td>\n",
       "      <td>0</td>\n",
       "      <td>Saturday</td>\n",
       "      <td>0</td>\n",
       "      <td>1</td>\n",
       "      <td>0.24</td>\n",
       "      <td>0.2879</td>\n",
       "      <td>0.75</td>\n",
       "      <td>0.0</td>\n",
       "      <td>0</td>\n",
       "      <td>1</td>\n",
       "      <td>1</td>\n",
       "    </tr>\n",
       "  </tbody>\n",
       "</table>\n",
       "</div>"
      ],
      "text/plain": [
       "   instant     dteday  season  yr  mnth  hr  holiday   weekday  workingday  \\\n",
       "0        1 2011-01-01       1   0     1   0        0  Saturday           0   \n",
       "1        2 2011-01-01       1   0     1   1        0  Saturday           0   \n",
       "2        3 2011-01-01       1   0     1   2        0  Saturday           0   \n",
       "3        4 2011-01-01       1   0     1   3        0  Saturday           0   \n",
       "4        5 2011-01-01       1   0     1   4        0  Saturday           0   \n",
       "\n",
       "   weathersit  temp   atemp   hum  windspeed  casual  registered  cnt  \n",
       "0           1  0.24  0.2879  0.81        0.0       3          13   16  \n",
       "1           1  0.22  0.2727  0.80        0.0       8          32   40  \n",
       "2           1  0.22  0.2727  0.80        0.0       5          27   32  \n",
       "3           1  0.24  0.2879  0.75        0.0       3          10   13  \n",
       "4           1  0.24  0.2879  0.75        0.0       0           1    1  "
      ]
     },
     "execution_count": 9,
     "metadata": {},
     "output_type": "execute_result"
    }
   ],
   "source": [
    "df['weekday'] = df['dteday'].dt.day_name()\n",
    "\n",
    "df.head()"
   ]
  },
  {
   "cell_type": "code",
   "execution_count": 10,
   "id": "6e9394de-b15e-447b-b2ca-167284e8544b",
   "metadata": {
    "tags": []
   },
   "outputs": [
    {
     "data": {
      "text/html": [
       "<div>\n",
       "<style scoped>\n",
       "    .dataframe tbody tr th:only-of-type {\n",
       "        vertical-align: middle;\n",
       "    }\n",
       "\n",
       "    .dataframe tbody tr th {\n",
       "        vertical-align: top;\n",
       "    }\n",
       "\n",
       "    .dataframe thead th {\n",
       "        text-align: right;\n",
       "    }\n",
       "</style>\n",
       "<table border=\"1\" class=\"dataframe\">\n",
       "  <thead>\n",
       "    <tr style=\"text-align: right;\">\n",
       "      <th></th>\n",
       "      <th>instant</th>\n",
       "      <th>dteday</th>\n",
       "      <th>season</th>\n",
       "      <th>yr</th>\n",
       "      <th>mnth</th>\n",
       "      <th>hr</th>\n",
       "      <th>holiday</th>\n",
       "      <th>weekday</th>\n",
       "      <th>workingday</th>\n",
       "      <th>weathersit</th>\n",
       "      <th>temp</th>\n",
       "      <th>atemp</th>\n",
       "      <th>hum</th>\n",
       "      <th>windspeed</th>\n",
       "      <th>casual</th>\n",
       "      <th>registered</th>\n",
       "      <th>cnt</th>\n",
       "    </tr>\n",
       "  </thead>\n",
       "  <tbody>\n",
       "    <tr>\n",
       "      <th>0</th>\n",
       "      <td>1</td>\n",
       "      <td>2011-01-01</td>\n",
       "      <td>1</td>\n",
       "      <td>0</td>\n",
       "      <td>January</td>\n",
       "      <td>0</td>\n",
       "      <td>0</td>\n",
       "      <td>Saturday</td>\n",
       "      <td>0</td>\n",
       "      <td>1</td>\n",
       "      <td>0.24</td>\n",
       "      <td>0.2879</td>\n",
       "      <td>0.81</td>\n",
       "      <td>0.0</td>\n",
       "      <td>3</td>\n",
       "      <td>13</td>\n",
       "      <td>16</td>\n",
       "    </tr>\n",
       "    <tr>\n",
       "      <th>1</th>\n",
       "      <td>2</td>\n",
       "      <td>2011-01-01</td>\n",
       "      <td>1</td>\n",
       "      <td>0</td>\n",
       "      <td>January</td>\n",
       "      <td>1</td>\n",
       "      <td>0</td>\n",
       "      <td>Saturday</td>\n",
       "      <td>0</td>\n",
       "      <td>1</td>\n",
       "      <td>0.22</td>\n",
       "      <td>0.2727</td>\n",
       "      <td>0.80</td>\n",
       "      <td>0.0</td>\n",
       "      <td>8</td>\n",
       "      <td>32</td>\n",
       "      <td>40</td>\n",
       "    </tr>\n",
       "    <tr>\n",
       "      <th>2</th>\n",
       "      <td>3</td>\n",
       "      <td>2011-01-01</td>\n",
       "      <td>1</td>\n",
       "      <td>0</td>\n",
       "      <td>January</td>\n",
       "      <td>2</td>\n",
       "      <td>0</td>\n",
       "      <td>Saturday</td>\n",
       "      <td>0</td>\n",
       "      <td>1</td>\n",
       "      <td>0.22</td>\n",
       "      <td>0.2727</td>\n",
       "      <td>0.80</td>\n",
       "      <td>0.0</td>\n",
       "      <td>5</td>\n",
       "      <td>27</td>\n",
       "      <td>32</td>\n",
       "    </tr>\n",
       "    <tr>\n",
       "      <th>3</th>\n",
       "      <td>4</td>\n",
       "      <td>2011-01-01</td>\n",
       "      <td>1</td>\n",
       "      <td>0</td>\n",
       "      <td>January</td>\n",
       "      <td>3</td>\n",
       "      <td>0</td>\n",
       "      <td>Saturday</td>\n",
       "      <td>0</td>\n",
       "      <td>1</td>\n",
       "      <td>0.24</td>\n",
       "      <td>0.2879</td>\n",
       "      <td>0.75</td>\n",
       "      <td>0.0</td>\n",
       "      <td>3</td>\n",
       "      <td>10</td>\n",
       "      <td>13</td>\n",
       "    </tr>\n",
       "    <tr>\n",
       "      <th>4</th>\n",
       "      <td>5</td>\n",
       "      <td>2011-01-01</td>\n",
       "      <td>1</td>\n",
       "      <td>0</td>\n",
       "      <td>January</td>\n",
       "      <td>4</td>\n",
       "      <td>0</td>\n",
       "      <td>Saturday</td>\n",
       "      <td>0</td>\n",
       "      <td>1</td>\n",
       "      <td>0.24</td>\n",
       "      <td>0.2879</td>\n",
       "      <td>0.75</td>\n",
       "      <td>0.0</td>\n",
       "      <td>0</td>\n",
       "      <td>1</td>\n",
       "      <td>1</td>\n",
       "    </tr>\n",
       "  </tbody>\n",
       "</table>\n",
       "</div>"
      ],
      "text/plain": [
       "   instant     dteday  season  yr     mnth  hr  holiday   weekday  workingday  \\\n",
       "0        1 2011-01-01       1   0  January   0        0  Saturday           0   \n",
       "1        2 2011-01-01       1   0  January   1        0  Saturday           0   \n",
       "2        3 2011-01-01       1   0  January   2        0  Saturday           0   \n",
       "3        4 2011-01-01       1   0  January   3        0  Saturday           0   \n",
       "4        5 2011-01-01       1   0  January   4        0  Saturday           0   \n",
       "\n",
       "   weathersit  temp   atemp   hum  windspeed  casual  registered  cnt  \n",
       "0           1  0.24  0.2879  0.81        0.0       3          13   16  \n",
       "1           1  0.22  0.2727  0.80        0.0       8          32   40  \n",
       "2           1  0.22  0.2727  0.80        0.0       5          27   32  \n",
       "3           1  0.24  0.2879  0.75        0.0       3          10   13  \n",
       "4           1  0.24  0.2879  0.75        0.0       0           1    1  "
      ]
     },
     "execution_count": 10,
     "metadata": {},
     "output_type": "execute_result"
    }
   ],
   "source": [
    "df['mnth'] = df['dteday'].dt.month_name()\n",
    "\n",
    "df.head()"
   ]
  },
  {
   "cell_type": "code",
   "execution_count": 11,
   "id": "355f5bc9-0d78-4611-9492-8a42778712e9",
   "metadata": {
    "tags": []
   },
   "outputs": [
    {
     "data": {
      "text/html": [
       "<div>\n",
       "<style scoped>\n",
       "    .dataframe tbody tr th:only-of-type {\n",
       "        vertical-align: middle;\n",
       "    }\n",
       "\n",
       "    .dataframe tbody tr th {\n",
       "        vertical-align: top;\n",
       "    }\n",
       "\n",
       "    .dataframe thead th {\n",
       "        text-align: right;\n",
       "    }\n",
       "</style>\n",
       "<table border=\"1\" class=\"dataframe\">\n",
       "  <thead>\n",
       "    <tr style=\"text-align: right;\">\n",
       "      <th></th>\n",
       "      <th>instant</th>\n",
       "      <th>dteday</th>\n",
       "      <th>season</th>\n",
       "      <th>yr</th>\n",
       "      <th>mnth</th>\n",
       "      <th>hr</th>\n",
       "      <th>holiday</th>\n",
       "      <th>weekday</th>\n",
       "      <th>workingday</th>\n",
       "      <th>weathersit</th>\n",
       "      <th>temp</th>\n",
       "      <th>atemp</th>\n",
       "      <th>hum</th>\n",
       "      <th>windspeed</th>\n",
       "      <th>casual</th>\n",
       "      <th>registered</th>\n",
       "      <th>cnt</th>\n",
       "    </tr>\n",
       "  </thead>\n",
       "  <tbody>\n",
       "    <tr>\n",
       "      <th>0</th>\n",
       "      <td>1</td>\n",
       "      <td>2011-01-01</td>\n",
       "      <td>Winter</td>\n",
       "      <td>0</td>\n",
       "      <td>January</td>\n",
       "      <td>0</td>\n",
       "      <td>0</td>\n",
       "      <td>Saturday</td>\n",
       "      <td>0</td>\n",
       "      <td>1</td>\n",
       "      <td>0.24</td>\n",
       "      <td>0.2879</td>\n",
       "      <td>0.81</td>\n",
       "      <td>0.0</td>\n",
       "      <td>3</td>\n",
       "      <td>13</td>\n",
       "      <td>16</td>\n",
       "    </tr>\n",
       "    <tr>\n",
       "      <th>1</th>\n",
       "      <td>2</td>\n",
       "      <td>2011-01-01</td>\n",
       "      <td>Winter</td>\n",
       "      <td>0</td>\n",
       "      <td>January</td>\n",
       "      <td>1</td>\n",
       "      <td>0</td>\n",
       "      <td>Saturday</td>\n",
       "      <td>0</td>\n",
       "      <td>1</td>\n",
       "      <td>0.22</td>\n",
       "      <td>0.2727</td>\n",
       "      <td>0.80</td>\n",
       "      <td>0.0</td>\n",
       "      <td>8</td>\n",
       "      <td>32</td>\n",
       "      <td>40</td>\n",
       "    </tr>\n",
       "    <tr>\n",
       "      <th>2</th>\n",
       "      <td>3</td>\n",
       "      <td>2011-01-01</td>\n",
       "      <td>Winter</td>\n",
       "      <td>0</td>\n",
       "      <td>January</td>\n",
       "      <td>2</td>\n",
       "      <td>0</td>\n",
       "      <td>Saturday</td>\n",
       "      <td>0</td>\n",
       "      <td>1</td>\n",
       "      <td>0.22</td>\n",
       "      <td>0.2727</td>\n",
       "      <td>0.80</td>\n",
       "      <td>0.0</td>\n",
       "      <td>5</td>\n",
       "      <td>27</td>\n",
       "      <td>32</td>\n",
       "    </tr>\n",
       "    <tr>\n",
       "      <th>3</th>\n",
       "      <td>4</td>\n",
       "      <td>2011-01-01</td>\n",
       "      <td>Winter</td>\n",
       "      <td>0</td>\n",
       "      <td>January</td>\n",
       "      <td>3</td>\n",
       "      <td>0</td>\n",
       "      <td>Saturday</td>\n",
       "      <td>0</td>\n",
       "      <td>1</td>\n",
       "      <td>0.24</td>\n",
       "      <td>0.2879</td>\n",
       "      <td>0.75</td>\n",
       "      <td>0.0</td>\n",
       "      <td>3</td>\n",
       "      <td>10</td>\n",
       "      <td>13</td>\n",
       "    </tr>\n",
       "    <tr>\n",
       "      <th>4</th>\n",
       "      <td>5</td>\n",
       "      <td>2011-01-01</td>\n",
       "      <td>Winter</td>\n",
       "      <td>0</td>\n",
       "      <td>January</td>\n",
       "      <td>4</td>\n",
       "      <td>0</td>\n",
       "      <td>Saturday</td>\n",
       "      <td>0</td>\n",
       "      <td>1</td>\n",
       "      <td>0.24</td>\n",
       "      <td>0.2879</td>\n",
       "      <td>0.75</td>\n",
       "      <td>0.0</td>\n",
       "      <td>0</td>\n",
       "      <td>1</td>\n",
       "      <td>1</td>\n",
       "    </tr>\n",
       "  </tbody>\n",
       "</table>\n",
       "</div>"
      ],
      "text/plain": [
       "   instant     dteday  season  yr     mnth  hr  holiday   weekday  workingday  \\\n",
       "0        1 2011-01-01  Winter   0  January   0        0  Saturday           0   \n",
       "1        2 2011-01-01  Winter   0  January   1        0  Saturday           0   \n",
       "2        3 2011-01-01  Winter   0  January   2        0  Saturday           0   \n",
       "3        4 2011-01-01  Winter   0  January   3        0  Saturday           0   \n",
       "4        5 2011-01-01  Winter   0  January   4        0  Saturday           0   \n",
       "\n",
       "   weathersit  temp   atemp   hum  windspeed  casual  registered  cnt  \n",
       "0           1  0.24  0.2879  0.81        0.0       3          13   16  \n",
       "1           1  0.22  0.2727  0.80        0.0       8          32   40  \n",
       "2           1  0.22  0.2727  0.80        0.0       5          27   32  \n",
       "3           1  0.24  0.2879  0.75        0.0       3          10   13  \n",
       "4           1  0.24  0.2879  0.75        0.0       0           1    1  "
      ]
     },
     "execution_count": 11,
     "metadata": {},
     "output_type": "execute_result"
    }
   ],
   "source": [
    "def find_season(season):\n",
    "    season_string = {1:'Winter',2:'Spring',3:'Summer',4:'Fall'}\n",
    "    return season_string.get(season)\n",
    "\n",
    "season_list = []\n",
    "\n",
    "for season in df['season']:\n",
    "    season=find_season(season)\n",
    "    season_list.append(season)\n",
    "    \n",
    "df['season'] = season_list\n",
    "\n",
    "df.head()"
   ]
  },
  {
   "cell_type": "markdown",
   "id": "a59cbb7a-9bc6-4d71-9b3e-3bf9034a1545",
   "metadata": {
    "tags": []
   },
   "source": [
    "## Correct value `yr` variabel"
   ]
  },
  {
   "cell_type": "code",
   "execution_count": 12,
   "id": "882c6300-64cf-4613-98cb-50766af8fb01",
   "metadata": {
    "tags": []
   },
   "outputs": [
    {
     "data": {
      "text/html": [
       "<div>\n",
       "<style scoped>\n",
       "    .dataframe tbody tr th:only-of-type {\n",
       "        vertical-align: middle;\n",
       "    }\n",
       "\n",
       "    .dataframe tbody tr th {\n",
       "        vertical-align: top;\n",
       "    }\n",
       "\n",
       "    .dataframe thead th {\n",
       "        text-align: right;\n",
       "    }\n",
       "</style>\n",
       "<table border=\"1\" class=\"dataframe\">\n",
       "  <thead>\n",
       "    <tr style=\"text-align: right;\">\n",
       "      <th></th>\n",
       "      <th>instant</th>\n",
       "      <th>dteday</th>\n",
       "      <th>season</th>\n",
       "      <th>yr</th>\n",
       "      <th>mnth</th>\n",
       "      <th>hr</th>\n",
       "      <th>holiday</th>\n",
       "      <th>weekday</th>\n",
       "      <th>workingday</th>\n",
       "      <th>weathersit</th>\n",
       "      <th>temp</th>\n",
       "      <th>atemp</th>\n",
       "      <th>hum</th>\n",
       "      <th>windspeed</th>\n",
       "      <th>casual</th>\n",
       "      <th>registered</th>\n",
       "      <th>cnt</th>\n",
       "    </tr>\n",
       "  </thead>\n",
       "  <tbody>\n",
       "    <tr>\n",
       "      <th>0</th>\n",
       "      <td>1</td>\n",
       "      <td>2011-01-01</td>\n",
       "      <td>Winter</td>\n",
       "      <td>2011</td>\n",
       "      <td>January</td>\n",
       "      <td>0</td>\n",
       "      <td>0</td>\n",
       "      <td>Saturday</td>\n",
       "      <td>0</td>\n",
       "      <td>1</td>\n",
       "      <td>0.24</td>\n",
       "      <td>0.2879</td>\n",
       "      <td>0.81</td>\n",
       "      <td>0.0</td>\n",
       "      <td>3</td>\n",
       "      <td>13</td>\n",
       "      <td>16</td>\n",
       "    </tr>\n",
       "    <tr>\n",
       "      <th>1</th>\n",
       "      <td>2</td>\n",
       "      <td>2011-01-01</td>\n",
       "      <td>Winter</td>\n",
       "      <td>2011</td>\n",
       "      <td>January</td>\n",
       "      <td>1</td>\n",
       "      <td>0</td>\n",
       "      <td>Saturday</td>\n",
       "      <td>0</td>\n",
       "      <td>1</td>\n",
       "      <td>0.22</td>\n",
       "      <td>0.2727</td>\n",
       "      <td>0.80</td>\n",
       "      <td>0.0</td>\n",
       "      <td>8</td>\n",
       "      <td>32</td>\n",
       "      <td>40</td>\n",
       "    </tr>\n",
       "    <tr>\n",
       "      <th>2</th>\n",
       "      <td>3</td>\n",
       "      <td>2011-01-01</td>\n",
       "      <td>Winter</td>\n",
       "      <td>2011</td>\n",
       "      <td>January</td>\n",
       "      <td>2</td>\n",
       "      <td>0</td>\n",
       "      <td>Saturday</td>\n",
       "      <td>0</td>\n",
       "      <td>1</td>\n",
       "      <td>0.22</td>\n",
       "      <td>0.2727</td>\n",
       "      <td>0.80</td>\n",
       "      <td>0.0</td>\n",
       "      <td>5</td>\n",
       "      <td>27</td>\n",
       "      <td>32</td>\n",
       "    </tr>\n",
       "    <tr>\n",
       "      <th>3</th>\n",
       "      <td>4</td>\n",
       "      <td>2011-01-01</td>\n",
       "      <td>Winter</td>\n",
       "      <td>2011</td>\n",
       "      <td>January</td>\n",
       "      <td>3</td>\n",
       "      <td>0</td>\n",
       "      <td>Saturday</td>\n",
       "      <td>0</td>\n",
       "      <td>1</td>\n",
       "      <td>0.24</td>\n",
       "      <td>0.2879</td>\n",
       "      <td>0.75</td>\n",
       "      <td>0.0</td>\n",
       "      <td>3</td>\n",
       "      <td>10</td>\n",
       "      <td>13</td>\n",
       "    </tr>\n",
       "    <tr>\n",
       "      <th>4</th>\n",
       "      <td>5</td>\n",
       "      <td>2011-01-01</td>\n",
       "      <td>Winter</td>\n",
       "      <td>2011</td>\n",
       "      <td>January</td>\n",
       "      <td>4</td>\n",
       "      <td>0</td>\n",
       "      <td>Saturday</td>\n",
       "      <td>0</td>\n",
       "      <td>1</td>\n",
       "      <td>0.24</td>\n",
       "      <td>0.2879</td>\n",
       "      <td>0.75</td>\n",
       "      <td>0.0</td>\n",
       "      <td>0</td>\n",
       "      <td>1</td>\n",
       "      <td>1</td>\n",
       "    </tr>\n",
       "  </tbody>\n",
       "</table>\n",
       "</div>"
      ],
      "text/plain": [
       "   instant     dteday  season    yr     mnth  hr  holiday   weekday  \\\n",
       "0        1 2011-01-01  Winter  2011  January   0        0  Saturday   \n",
       "1        2 2011-01-01  Winter  2011  January   1        0  Saturday   \n",
       "2        3 2011-01-01  Winter  2011  January   2        0  Saturday   \n",
       "3        4 2011-01-01  Winter  2011  January   3        0  Saturday   \n",
       "4        5 2011-01-01  Winter  2011  January   4        0  Saturday   \n",
       "\n",
       "   workingday  weathersit  temp   atemp   hum  windspeed  casual  registered  \\\n",
       "0           0           1  0.24  0.2879  0.81        0.0       3          13   \n",
       "1           0           1  0.22  0.2727  0.80        0.0       8          32   \n",
       "2           0           1  0.22  0.2727  0.80        0.0       5          27   \n",
       "3           0           1  0.24  0.2879  0.75        0.0       3          10   \n",
       "4           0           1  0.24  0.2879  0.75        0.0       0           1   \n",
       "\n",
       "   cnt  \n",
       "0   16  \n",
       "1   40  \n",
       "2   32  \n",
       "3   13  \n",
       "4    1  "
      ]
     },
     "execution_count": 12,
     "metadata": {},
     "output_type": "execute_result"
    }
   ],
   "source": [
    "# for 0 = 2011, 1=2012\n",
    "\n",
    "df['yr'] = df['dteday'].dt.year\n",
    "\n",
    "df.head()"
   ]
  },
  {
   "cell_type": "markdown",
   "id": "17453557-f6d1-409b-8ee7-4341399fa2df",
   "metadata": {
    "tags": []
   },
   "source": [
    "## Correct the values of temp,atemp,hum, and windspeed before normalize"
   ]
  },
  {
   "cell_type": "code",
   "execution_count": 13,
   "id": "e86a7d09-6d3b-47fd-9d9a-8daf5ad8039e",
   "metadata": {
    "tags": []
   },
   "outputs": [
    {
     "data": {
      "text/html": [
       "<div>\n",
       "<style scoped>\n",
       "    .dataframe tbody tr th:only-of-type {\n",
       "        vertical-align: middle;\n",
       "    }\n",
       "\n",
       "    .dataframe tbody tr th {\n",
       "        vertical-align: top;\n",
       "    }\n",
       "\n",
       "    .dataframe thead th {\n",
       "        text-align: right;\n",
       "    }\n",
       "</style>\n",
       "<table border=\"1\" class=\"dataframe\">\n",
       "  <thead>\n",
       "    <tr style=\"text-align: right;\">\n",
       "      <th></th>\n",
       "      <th>instant</th>\n",
       "      <th>dteday</th>\n",
       "      <th>season</th>\n",
       "      <th>yr</th>\n",
       "      <th>mnth</th>\n",
       "      <th>hr</th>\n",
       "      <th>holiday</th>\n",
       "      <th>weekday</th>\n",
       "      <th>workingday</th>\n",
       "      <th>weathersit</th>\n",
       "      <th>temp</th>\n",
       "      <th>atemp</th>\n",
       "      <th>hum</th>\n",
       "      <th>windspeed</th>\n",
       "      <th>casual</th>\n",
       "      <th>registered</th>\n",
       "      <th>cnt</th>\n",
       "    </tr>\n",
       "  </thead>\n",
       "  <tbody>\n",
       "    <tr>\n",
       "      <th>0</th>\n",
       "      <td>1</td>\n",
       "      <td>2011-01-01</td>\n",
       "      <td>Winter</td>\n",
       "      <td>2011</td>\n",
       "      <td>January</td>\n",
       "      <td>0</td>\n",
       "      <td>0</td>\n",
       "      <td>Saturday</td>\n",
       "      <td>0</td>\n",
       "      <td>1</td>\n",
       "      <td>9.84</td>\n",
       "      <td>14.395</td>\n",
       "      <td>81.0</td>\n",
       "      <td>0.0</td>\n",
       "      <td>3</td>\n",
       "      <td>13</td>\n",
       "      <td>16</td>\n",
       "    </tr>\n",
       "    <tr>\n",
       "      <th>1</th>\n",
       "      <td>2</td>\n",
       "      <td>2011-01-01</td>\n",
       "      <td>Winter</td>\n",
       "      <td>2011</td>\n",
       "      <td>January</td>\n",
       "      <td>1</td>\n",
       "      <td>0</td>\n",
       "      <td>Saturday</td>\n",
       "      <td>0</td>\n",
       "      <td>1</td>\n",
       "      <td>9.02</td>\n",
       "      <td>13.635</td>\n",
       "      <td>80.0</td>\n",
       "      <td>0.0</td>\n",
       "      <td>8</td>\n",
       "      <td>32</td>\n",
       "      <td>40</td>\n",
       "    </tr>\n",
       "    <tr>\n",
       "      <th>2</th>\n",
       "      <td>3</td>\n",
       "      <td>2011-01-01</td>\n",
       "      <td>Winter</td>\n",
       "      <td>2011</td>\n",
       "      <td>January</td>\n",
       "      <td>2</td>\n",
       "      <td>0</td>\n",
       "      <td>Saturday</td>\n",
       "      <td>0</td>\n",
       "      <td>1</td>\n",
       "      <td>9.02</td>\n",
       "      <td>13.635</td>\n",
       "      <td>80.0</td>\n",
       "      <td>0.0</td>\n",
       "      <td>5</td>\n",
       "      <td>27</td>\n",
       "      <td>32</td>\n",
       "    </tr>\n",
       "    <tr>\n",
       "      <th>3</th>\n",
       "      <td>4</td>\n",
       "      <td>2011-01-01</td>\n",
       "      <td>Winter</td>\n",
       "      <td>2011</td>\n",
       "      <td>January</td>\n",
       "      <td>3</td>\n",
       "      <td>0</td>\n",
       "      <td>Saturday</td>\n",
       "      <td>0</td>\n",
       "      <td>1</td>\n",
       "      <td>9.84</td>\n",
       "      <td>14.395</td>\n",
       "      <td>75.0</td>\n",
       "      <td>0.0</td>\n",
       "      <td>3</td>\n",
       "      <td>10</td>\n",
       "      <td>13</td>\n",
       "    </tr>\n",
       "    <tr>\n",
       "      <th>4</th>\n",
       "      <td>5</td>\n",
       "      <td>2011-01-01</td>\n",
       "      <td>Winter</td>\n",
       "      <td>2011</td>\n",
       "      <td>January</td>\n",
       "      <td>4</td>\n",
       "      <td>0</td>\n",
       "      <td>Saturday</td>\n",
       "      <td>0</td>\n",
       "      <td>1</td>\n",
       "      <td>9.84</td>\n",
       "      <td>14.395</td>\n",
       "      <td>75.0</td>\n",
       "      <td>0.0</td>\n",
       "      <td>0</td>\n",
       "      <td>1</td>\n",
       "      <td>1</td>\n",
       "    </tr>\n",
       "  </tbody>\n",
       "</table>\n",
       "</div>"
      ],
      "text/plain": [
       "   instant     dteday  season    yr     mnth  hr  holiday   weekday  \\\n",
       "0        1 2011-01-01  Winter  2011  January   0        0  Saturday   \n",
       "1        2 2011-01-01  Winter  2011  January   1        0  Saturday   \n",
       "2        3 2011-01-01  Winter  2011  January   2        0  Saturday   \n",
       "3        4 2011-01-01  Winter  2011  January   3        0  Saturday   \n",
       "4        5 2011-01-01  Winter  2011  January   4        0  Saturday   \n",
       "\n",
       "   workingday  weathersit  temp   atemp   hum  windspeed  casual  registered  \\\n",
       "0           0           1  9.84  14.395  81.0        0.0       3          13   \n",
       "1           0           1  9.02  13.635  80.0        0.0       8          32   \n",
       "2           0           1  9.02  13.635  80.0        0.0       5          27   \n",
       "3           0           1  9.84  14.395  75.0        0.0       3          10   \n",
       "4           0           1  9.84  14.395  75.0        0.0       0           1   \n",
       "\n",
       "   cnt  \n",
       "0   16  \n",
       "1   40  \n",
       "2   32  \n",
       "3   13  \n",
       "4    1  "
      ]
     },
     "execution_count": 13,
     "metadata": {},
     "output_type": "execute_result"
    }
   ],
   "source": [
    "df['temp'] = df['temp']*41\n",
    "df['atemp'] = df['atemp']*50\n",
    "df['hum'] =df['hum']*100\n",
    "df['windspeed']=df['windspeed']*67\n",
    "\n",
    "df.head()"
   ]
  },
  {
   "cell_type": "markdown",
   "id": "1e766d4e-9dc6-4a12-8be1-3b934a839234",
   "metadata": {
    "tags": []
   },
   "source": [
    "# 5.Exploratory Data Analysis"
   ]
  },
  {
   "cell_type": "code",
   "execution_count": 14,
   "id": "ff16bda2-5947-4da2-844c-aa1088b0cee3",
   "metadata": {
    "tags": []
   },
   "outputs": [
    {
     "data": {
      "text/html": [
       "<div>\n",
       "<style scoped>\n",
       "    .dataframe tbody tr th:only-of-type {\n",
       "        vertical-align: middle;\n",
       "    }\n",
       "\n",
       "    .dataframe tbody tr th {\n",
       "        vertical-align: top;\n",
       "    }\n",
       "\n",
       "    .dataframe thead th {\n",
       "        text-align: right;\n",
       "    }\n",
       "</style>\n",
       "<table border=\"1\" class=\"dataframe\">\n",
       "  <thead>\n",
       "    <tr style=\"text-align: right;\">\n",
       "      <th></th>\n",
       "      <th>temp</th>\n",
       "      <th>atemp</th>\n",
       "      <th>hum</th>\n",
       "      <th>windspeed</th>\n",
       "    </tr>\n",
       "  </thead>\n",
       "  <tbody>\n",
       "    <tr>\n",
       "      <th>count</th>\n",
       "      <td>17379.000000</td>\n",
       "      <td>17379.000000</td>\n",
       "      <td>17379.000000</td>\n",
       "      <td>17379.000000</td>\n",
       "    </tr>\n",
       "    <tr>\n",
       "      <th>mean</th>\n",
       "      <td>20.376474</td>\n",
       "      <td>23.788755</td>\n",
       "      <td>62.722884</td>\n",
       "      <td>12.736540</td>\n",
       "    </tr>\n",
       "    <tr>\n",
       "      <th>std</th>\n",
       "      <td>7.894801</td>\n",
       "      <td>8.592511</td>\n",
       "      <td>19.292983</td>\n",
       "      <td>8.196795</td>\n",
       "    </tr>\n",
       "    <tr>\n",
       "      <th>min</th>\n",
       "      <td>0.820000</td>\n",
       "      <td>0.000000</td>\n",
       "      <td>0.000000</td>\n",
       "      <td>0.000000</td>\n",
       "    </tr>\n",
       "    <tr>\n",
       "      <th>25%</th>\n",
       "      <td>13.940000</td>\n",
       "      <td>16.665000</td>\n",
       "      <td>48.000000</td>\n",
       "      <td>7.001500</td>\n",
       "    </tr>\n",
       "    <tr>\n",
       "      <th>50%</th>\n",
       "      <td>20.500000</td>\n",
       "      <td>24.240000</td>\n",
       "      <td>63.000000</td>\n",
       "      <td>12.998000</td>\n",
       "    </tr>\n",
       "    <tr>\n",
       "      <th>75%</th>\n",
       "      <td>27.060000</td>\n",
       "      <td>31.060000</td>\n",
       "      <td>78.000000</td>\n",
       "      <td>16.997900</td>\n",
       "    </tr>\n",
       "    <tr>\n",
       "      <th>max</th>\n",
       "      <td>41.000000</td>\n",
       "      <td>50.000000</td>\n",
       "      <td>100.000000</td>\n",
       "      <td>56.996900</td>\n",
       "    </tr>\n",
       "  </tbody>\n",
       "</table>\n",
       "</div>"
      ],
      "text/plain": [
       "               temp         atemp           hum     windspeed\n",
       "count  17379.000000  17379.000000  17379.000000  17379.000000\n",
       "mean      20.376474     23.788755     62.722884     12.736540\n",
       "std        7.894801      8.592511     19.292983      8.196795\n",
       "min        0.820000      0.000000      0.000000      0.000000\n",
       "25%       13.940000     16.665000     48.000000      7.001500\n",
       "50%       20.500000     24.240000     63.000000     12.998000\n",
       "75%       27.060000     31.060000     78.000000     16.997900\n",
       "max       41.000000     50.000000    100.000000     56.996900"
      ]
     },
     "execution_count": 14,
     "metadata": {},
     "output_type": "execute_result"
    }
   ],
   "source": [
    "vars = ['temp','atemp','hum','windspeed']\n",
    "df_vars = df[vars]\n",
    "\n",
    "df_vars.describe()"
   ]
  },
  {
   "cell_type": "code",
   "execution_count": 15,
   "id": "699d3b60-eeae-48f0-a109-1487a923cf8b",
   "metadata": {
    "tags": []
   },
   "outputs": [
    {
     "data": {
      "image/png": "[encoded data removed]",
      "text/plain": [
       "<Figure size 1500x500 with 4 Axes>"
      ]
     },
     "metadata": {},
     "output_type": "display_data"
    }
   ],
   "source": [
    "## Histogram\n",
    "\n",
    "fix,axs = plt.subplots(1,4,figsize=(15,5))\n",
    "\n",
    "for i, ax in enumerate(axs):\n",
    "    sns.histplot(x=df_vars[vars[i]], ax=ax,kde=True,bins =10, color='red')\n",
    "    \n",
    "    ax.set_title(vars[i])\n",
    "    ax.set_xlabel(\"\")\n",
    "    ax.set_ylabel(\"\")\n",
    "    \n",
    "plt.tight_layout()\n",
    "plt.show()"
   ]
  },
  {
   "cell_type": "markdown",
   "id": "ceb68991-f539-49a1-beee-3010b0ba8adb",
   "metadata": {},
   "source": [
    "Analisis:\n",
    "\n",
    "- Pada variabel `windspeed`, kita melihat nilai maksimum 57 mph, dan ini abnormal.\n",
    "- `temp`, `atemp`, `hum` memiliki distribusi normal."
   ]
  },
  {
   "cell_type": "markdown",
   "id": "4309dde9-9948-4e68-a017-5ef5911a4bd9",
   "metadata": {
    "tags": []
   },
   "source": [
    "## 5.1 Count the number of casual and registered users"
   ]
  },
  {
   "cell_type": "code",
   "execution_count": 16,
   "id": "2dfd9636-08e9-426e-8191-c5fe72571a66",
   "metadata": {
    "tags": []
   },
   "outputs": [
    {
     "data": {
      "image/png": "[encoded data removed]",
      "text/plain": [
       "<Figure size 1500x500 with 1 Axes>"
      ]
     },
     "metadata": {},
     "output_type": "display_data"
    },
    {
     "name": "stdout",
     "output_type": "stream",
     "text": [
      "Count of registered users : 2672662\n",
      "Count of casual users : 620017\n"
     ]
    }
   ],
   "source": [
    "registered_sum = df['registered'].sum()\n",
    "casual_sum = df['casual'].sum()\n",
    "\n",
    "plt.figure(figsize=(15,5))\n",
    "\n",
    "sns.barplot(x=['Registered','Casual'], y=[registered_sum,casual_sum], palette=[\"red\",\"lightcoral\"])\n",
    "\n",
    "plt.title(\"Total Registered and Casual Riders\")\n",
    "plt.xlabel(\"User Type\")\n",
    "plt.ylabel(\"Total Riders\")\n",
    "\n",
    "plt.show()\n",
    "\n",
    "print(\"Count of registered users :\",registered_sum)\n",
    "print(\"Count of casual users :\",casual_sum)"
   ]
  },
  {
   "cell_type": "markdown",
   "id": "6eac3ace-7308-4f07-b2ea-b740fa2a323e",
   "metadata": {},
   "source": [
    "Analisis :\n",
    "- Registered bike lebih tinggi dari casual users"
   ]
  },
  {
   "cell_type": "markdown",
   "id": "8044007e-8589-44e7-ab72-7750f74b521f",
   "metadata": {},
   "source": [
    "## 5.2 Bikeshare users by year"
   ]
  },
  {
   "cell_type": "code",
   "execution_count": 17,
   "id": "db80c3d4-4eca-42d7-9e99-e914b9f01ea7",
   "metadata": {
    "tags": []
   },
   "outputs": [
    {
     "data": {
      "image/png": "[encoded data removed]",
      "text/plain": [
       "<Figure size 1000x500 with 1 Axes>"
      ]
     },
     "metadata": {},
     "output_type": "display_data"
    }
   ],
   "source": [
    "# Set the figure size\n",
    "plt.figure(figsize=(10, 5))\n",
    "\n",
    "# Create a barplot\n",
    "sns.barplot(\n",
    "    x=\"yr\",\n",
    "    y=\"cnt\",\n",
    "    data=df,\n",
    "    palette=[\"red\", \"lightcoral\"]\n",
    ")\n",
    "\n",
    "# Add a title\n",
    "plt.title(\"Count by Year\")\n",
    "\n",
    "# Label the x-axis\n",
    "plt.xlabel(\"Year\")\n",
    "\n",
    "# Label the y-axis\n",
    "plt.ylabel(\"Total Rides\")\n",
    "\n",
    "# Show the plot\n",
    "plt.show()"
   ]
  },
  {
   "cell_type": "markdown",
   "id": "0b1187b2-d618-4124-8c71-45e9f1e9c21f",
   "metadata": {},
   "source": [
    "Analisis :\n",
    "\n",
    "- Jumlah perjalanan berbagi sepeda pada tahun 2012 lebih tinggi daripada tahun 2011."
   ]
  },
  {
   "cell_type": "markdown",
   "id": "12acdb1b-91fb-4558-ad4e-26239903af80",
   "metadata": {},
   "source": [
    "## 5.3 Bikeshare user by season"
   ]
  },
  {
   "cell_type": "code",
   "execution_count": 18,
   "id": "d1462360-851b-4009-94a7-39537052e606",
   "metadata": {
    "tags": []
   },
   "outputs": [
    {
     "data": {
      "image/png": "[encoded data removed]",
      "text/plain": [
       "<Figure size 640x480 with 1 Axes>"
      ]
     },
     "metadata": {},
     "output_type": "display_data"
    }
   ],
   "source": [
    "sns.barplot(\n",
    "    x=\"season\",\n",
    "    y=\"cnt\",\n",
    "    data=df,\n",
    "    palette=[\"red\", \"lightcoral\"]\n",
    ")\n",
    "\n",
    "plt.title(\"Count of bikeshare rides by season\")\n",
    "plt.xlabel(\"Season\")\n",
    "plt.ylabel(\"Total Rides\")\n",
    "\n",
    "plt.show()"
   ]
  },
  {
   "cell_type": "markdown",
   "id": "10b0c8b0-9196-4267-93f7-9d1856e926fc",
   "metadata": {},
   "source": [
    "Analisis :\n",
    "- Jumlah perjalanan berbagi sepeda paling rendah terjadi di musim dingin dan paling tinggi di musim panas."
   ]
  },
  {
   "cell_type": "markdown",
   "id": "55ee6f7c-d261-472e-b79e-00bb24933459",
   "metadata": {},
   "source": [
    "# 5.4 Bikeshare users by month"
   ]
  },
  {
   "cell_type": "code",
   "execution_count": 19,
   "id": "42a1ca19-7c8c-4c93-aab5-297b066cd8ab",
   "metadata": {
    "tags": []
   },
   "outputs": [
    {
     "data": {
      "image/png": "[encoded data removed]",
      "text/plain": [
       "<Figure size 640x480 with 1 Axes>"
      ]
     },
     "metadata": {},
     "output_type": "display_data"
    }
   ],
   "source": [
    "sns.barplot(\n",
    "    x=\"mnth\",\n",
    "    y=\"cnt\",\n",
    "    data=df,\n",
    "    palette=[\"red\",\"lightcoral\"]\n",
    ")\n",
    "\n",
    "plt.title(\"Count of bikeshare rides by month\")\n",
    "plt.xlabel(\"Month\")\n",
    "plt.ylabel(\"Total Rides\")\n",
    "plt.xticks(rotation=60)\n",
    "\n",
    "plt.show()"
   ]
  },
  {
   "cell_type": "markdown",
   "id": "b9195108-6ca0-48a2-9501-1a65f4ec8107",
   "metadata": {},
   "source": [
    "Analisis :\n",
    "\n",
    "- Jumlah perjalanan berbagi sepeda cenderung meningkat di pertengahan tahun, dan mengalami penurunan pada awal tahun (Januari dan Februari) serta pada akhir tahun (November dan Desember)."
   ]
  },
  {
   "cell_type": "markdown",
   "id": "46412850-0e85-4f95-842b-b0ef94198ad4",
   "metadata": {},
   "source": [
    "## 5.5 Bikeshare users by weekday"
   ]
  },
  {
   "cell_type": "code",
   "execution_count": 20,
   "id": "280bc89f-43cd-4565-a3c3-e5dc34319776",
   "metadata": {
    "tags": []
   },
   "outputs": [],
   "source": [
    "day_order = ['Monday', 'Tuesday', 'Wednesday', 'Thursday', 'Friday', 'Saturday', 'Sunday']"
   ]
  },
  {
   "cell_type": "code",
   "execution_count": 21,
   "id": "c219052d-1ca8-42f7-b030-12943e74229e",
   "metadata": {
    "tags": []
   },
   "outputs": [
    {
     "data": {
      "image/png": "[encoded data removed]",
      "text/plain": [
       "<Figure size 1600x600 with 1 Axes>"
      ]
     },
     "metadata": {},
     "output_type": "display_data"
    }
   ],
   "source": [
    "# Mengatur ukuran gambar (figure)\n",
    "plt.figure(figsize=(16, 6))\n",
    "\n",
    "# Membuat line plot menggunakan fungsi sns.lineplot()\n",
    "sns.lineplot(\n",
    "    x=\"weekday\",\n",
    "    y=\"cnt\",\n",
    "    data=df,\n",
    ")\n",
    "\n",
    "# Menambahkan label pada sumbu-sumbu dan judul pada plot\n",
    "plt.xlabel(\"Weekday\")\n",
    "plt.ylabel(\"Total Rides\")\n",
    "plt.title(\"Count of bikeshare rides by Weekday\")\n",
    "\n",
    "# Menampilkan plot\n",
    "plt.show()\n"
   ]
  },
  {
   "cell_type": "markdown",
   "id": "ea4682dd-31ca-4048-9b49-b811b3695b35",
   "metadata": {},
   "source": [
    "## 5.6 Bikeshare users by hour"
   ]
  },
  {
   "cell_type": "code",
   "execution_count": 22,
   "id": "800edab5-aba1-4d16-927e-15ec3125b796",
   "metadata": {
    "tags": []
   },
   "outputs": [
    {
     "data": {
      "image/png": "[encoded data removed]",
      "text/plain": [
       "<Figure size 1600x600 with 1 Axes>"
      ]
     },
     "metadata": {},
     "output_type": "display_data"
    }
   ],
   "source": [
    "# Mengatur ukuran gambar (figure)\n",
    "plt.figure(figsize=(16, 6))\n",
    "\n",
    "# Membuat line plot menggunakan fungsi sns.lineplot()\n",
    "sns.barplot(\n",
    "    x=\"hr\",\n",
    "    y=\"cnt\",\n",
    "    data=df,\n",
    ")\n",
    "\n",
    "# Menambahkan label pada sumbu-sumbu dan judul pada plot\n",
    "plt.xlabel(\"Hour\")\n",
    "plt.ylabel(\"Total Rides\")\n",
    "plt.title(\"Count of bikehsare rides by Hour\")\n",
    "\n",
    "# Menampilkan plot\n",
    "plt.show()"
   ]
  },
  {
   "cell_type": "markdown",
   "id": "b37d8566-e850-4630-bee3-4d6bf5e78b21",
   "metadata": {},
   "source": [
    "- tengah malah dari jam 00.00 sampai pagi jam 04.00 perjalanan sepeda paling rendah\n",
    "- jumlah perjalanan pagi hari meningkat sampai puncaknya jam 08.00\n",
    "- menjelang jam 09.00 perjalanan mulai menurut sampai pukul 16.00 dan mencapai puncak tertinggi di jam 17.00\n",
    "- dan setelah itu mengalami penurunan sampai tengah malam"
   ]
  },
  {
   "cell_type": "markdown",
   "id": "5aa5557e-481a-4b9e-9051-55d86cb5f5b1",
   "metadata": {},
   "source": [
    "## 5.7 bikeshare users by holiday"
   ]
  },
  {
   "cell_type": "code",
   "execution_count": 23,
   "id": "5621e887-51b7-4162-8170-99a228aec5f8",
   "metadata": {
    "tags": []
   },
   "outputs": [
    {
     "data": {
      "image/png": "[encoded data removed]",
      "text/plain": [
       "<Figure size 1600x600 with 1 Axes>"
      ]
     },
     "metadata": {},
     "output_type": "display_data"
    },
    {
     "name": "stdout",
     "output_type": "stream",
     "text": [
      "Count of bikeshare users based on working day:\n",
      "1    11865\n",
      "0     5514\n",
      "Name: workingday, dtype: int64\n"
     ]
    }
   ],
   "source": [
    "# Mengatur ukuran gambar (figure)\n",
    "plt.figure(figsize=(16, 6))\n",
    "\n",
    "# Membuat line plot menggunakan fungsi sns.barplot()\n",
    "sns.barplot(\n",
    "    x=\"holiday\",\n",
    "    y=\"cnt\",\n",
    "    data=df,\n",
    ")\n",
    "\n",
    "# Menambahkan label pada sumbu-sumbu dan judul pada plot\n",
    "plt.xlabel(\"Hour\")\n",
    "plt.ylabel(\"Total Rides\")\n",
    "plt.title(\"Count of bikehsare rides by Hour\")\n",
    "\n",
    "# Menampilkan plot\n",
    "plt.show()\n",
    "\n",
    "print('Count of bikeshare users based on working day:')\n",
    "print(df['workingday'].value_counts())"
   ]
  },
  {
   "cell_type": "markdown",
   "id": "ba77c151-b777-4f3d-ba46-f955c9a02c85",
   "metadata": {
    "tags": []
   },
   "source": [
    "# 6. Kesimpulan"
   ]
  },
  {
   "cell_type": "markdown",
   "id": "b522751a-a052-4274-a2ef-028be6b00772",
   "metadata": {},
   "source": [
    "## 6.1 Bagaimana tren jumlah perjalanan berbagi sepeda dalam beberapa tahun terakhir?"
   ]
  },
  {
   "cell_type": "markdown",
   "id": "b5e2d114-0a3e-4bb1-b52d-569d31991d5d",
   "metadata": {},
   "source": [
    "Jumlah perjalanan berbagi sepeda pada tahun 2012 lebih tinggi daripada pada tahun 2011. Kedua tahun tersebut menunjukkan tren dan musiman yang sama, dengan jumlah perjalanan meningkat di pertengahan tahun dan menurun di awal dan akhir tahun."
   ]
  },
  {
   "cell_type": "markdown",
   "id": "56d15e08-b5d0-4b22-bf53-f54fece2cee4",
   "metadata": {},
   "source": [
    "## 6.2 Pola penggunaan perjalanan berbagi sepeda berdasarkan waktu dalam sehari seperti apa?"
   ]
  },
  {
   "cell_type": "markdown",
   "id": "9565cb79-09de-45cd-849a-453a80d66c22",
   "metadata": {},
   "source": [
    "Untuk pengguna terdaftar, jumlah perjalanan mencapai puncak pada pukul 8:00 pagi dan 5:00 sore, menunjukkan bahwa mereka mungkin menggunakan sepeda untuk berangkat kerja."
   ]
  },
  {
   "cell_type": "markdown",
   "id": "d38871c0-54c2-4e03-bb49-1dacd5d9ead2",
   "metadata": {
    "tags": []
   },
   "source": [
    "## 6.3  Musim apa yang memiliki jumlah perjalanan berbagi sepeda tertinggi?"
   ]
  },
  {
   "cell_type": "markdown",
   "id": "d1937906-953e-4157-a854-d736802ceb52",
   "metadata": {},
   "source": [
    "Perjalanan berbagi sepeda tertinggi terjadi selama musim panas dan terendah selama musim dingin."
   ]
  },
  {
   "cell_type": "markdown",
   "id": "b96ec4ec-3936-4ed0-99a9-700562725fba",
   "metadata": {
    "tags": []
   },
   "source": [
    "## 6.4 Apakah cuaca memengaruhi penggunaan berbagi sepeda?"
   ]
  },
  {
   "cell_type": "markdown",
   "id": "6dbeba33-2489-44d0-8f66-4eaa0829800d",
   "metadata": {},
   "source": [
    "Ya, jumlah perjalanan jauh lebih tinggi saat cuaca cerah dibandingkan dengan kondisi cuaca yang lebih ekstrem.Yes, the number of rides is significantly higher during clear weather than during more extreme weather conditions."
   ]
  },
  {
   "cell_type": "code",
   "execution_count": 24,
   "id": "8f41a11c-1d1b-4c24-8d05-2f13126d04c1",
   "metadata": {
    "tags": []
   },
   "outputs": [],
   "source": [
    "df.to_csv(\"clean_bikesharee_hour.csv\", index=False)"
   ]
  },
  {
   "cell_type": "code",
   "execution_count": null,
   "id": "a083ef02-c1c0-436e-a291-acfda4947bc0",
   "metadata": {},
   "outputs": [],
   "source": []
  }
 ],
 "metadata": {
  "kernelspec": {
   "display_name": "Python 3 (ipykernel)",
   "language": "python",
   "name": "python3"
  },
  "language_info": {
   "codemirror_mode": {
    "name": "ipython",
    "version": 3
   },
   "file_extension": ".py",
   "mimetype": "text/x-python",
   "name": "python",
   "nbconvert_exporter": "python",
   "pygments_lexer": "ipython3",
   "version": "3.11.4"
  }
 },
 "nbformat": 4,
 "nbformat_minor": 5
}
